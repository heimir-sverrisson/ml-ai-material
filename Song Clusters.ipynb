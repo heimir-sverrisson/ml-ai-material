{
 "cells": [
  {
   "cell_type": "code",
   "execution_count": null,
   "id": "02b38fc3",
   "metadata": {},
   "outputs": [],
   "source": [
    "from lyrics_db import conn"
   ]
  },
  {
   "cell_type": "code",
   "execution_count": null,
   "id": "456967f6",
   "metadata": {},
   "outputs": [],
   "source": [
    "stmt = \"\"\"\n",
    "SELECT a.album_name, s.song_name, s.embedding\n",
    "    FROM albums AS a\n",
    "    INNER JOIN songs AS s on s.album_id = a.id\n",
    "    WHERE a.album_name in ('Blood on the Tracks', 'Bob Dylan', 'Björk', 'The Chirping Crickets')\n",
    "    ORDER BY a.album_name, s.song_number\n",
    "\"\"\""
   ]
  },
  {
   "cell_type": "code",
   "execution_count": null,
   "id": "fe8dd946",
   "metadata": {},
   "outputs": [],
   "source": [
    "conn.rollback()\n",
    "cur = conn.cursor()\n",
    "cur.execute(stmt)\n",
    "songs = cur.fetchall()\n",
    "cur.close()"
   ]
  },
  {
   "cell_type": "code",
   "execution_count": null,
   "id": "4e61fbcc",
   "metadata": {},
   "outputs": [],
   "source": [
    "import matplotlib\n",
    "import matplotlib.pyplot as plt\n",
    "import numpy as np\n",
    "import pandas as pd\n",
    "from sklearn.manifold import TSNE\n",
    "\n",
    "def plot_embeddings(embedding_list, album_names, songs_per_album):\n",
    "    c = 0\n",
    "    colors = ['red', 'green', 'blue', 'black', 'orange', 'cyan', 'indigo', 'darkblue', 'darkgreen', 'fuchsia']\n",
    "    color_indices = []\n",
    "    matrix = None\n",
    "    for embedding in embedding_list:\n",
    "        if matrix is None:\n",
    "            matrix = np.array(embedding)\n",
    "        else:\n",
    "            matrix = np.vstack((matrix, np.array(embedding)))\n",
    "    for songs in songs_per_album:\n",
    "        color_indices.extend(pd.Series([c for x in range(songs)]))\n",
    "        c = (c + 1) % len(colors)\n",
    "    tsne = TSNE(\n",
    "        n_components=2, perplexity=4, random_state=42, init=\"random\", learning_rate=10\n",
    "    )\n",
    "    vis_dims = tsne.fit_transform(matrix)\n",
    "    x = [x for x,y in vis_dims]\n",
    "    y = [y for x,y in vis_dims]\n",
    "    \n",
    "    fig, ax = plt.subplots()\n",
    "    colormap = matplotlib.colors.ListedColormap(colors)\n",
    "    scatter = ax.scatter(x, y, c=color_indices, cmap=colormap, alpha=0.8)\n",
    "    plots, _labels = scatter.legend_elements()\n",
    "    legend = ax.legend(plots, album_names, title=\"Albums\")\n",
    "    ax.add_artist(legend)\n",
    "    plt.show()    "
   ]
  },
  {
   "cell_type": "code",
   "execution_count": null,
   "id": "abfcba27",
   "metadata": {},
   "outputs": [],
   "source": [
    "embedding_list = []\n",
    "album_names = []\n",
    "songs_per_album = []\n",
    "for s in songs:\n",
    "    embedding_list.append(eval(s[2]))\n",
    "    if s[0] not in album_names:\n",
    "        album_names.append(s[0])\n",
    "        songs_per_album.append(0)\n",
    "    songs_per_album[-1] += 1"
   ]
  },
  {
   "cell_type": "code",
   "execution_count": null,
   "id": "91a325a5",
   "metadata": {},
   "outputs": [],
   "source": [
    "plot_embeddings(embedding_list, album_names, songs_per_album)"
   ]
  },
  {
   "cell_type": "code",
   "execution_count": null,
   "id": "c166af4e",
   "metadata": {},
   "outputs": [],
   "source": []
  }
 ],
 "metadata": {
  "kernelspec": {
   "display_name": "Python 3 (ipykernel)",
   "language": "python",
   "name": "python3"
  },
  "language_info": {
   "codemirror_mode": {
    "name": "ipython",
    "version": 3
   },
   "file_extension": ".py",
   "mimetype": "text/x-python",
   "name": "python",
   "nbconvert_exporter": "python",
   "pygments_lexer": "ipython3",
   "version": "3.11.8"
  }
 },
 "nbformat": 4,
 "nbformat_minor": 5
}
