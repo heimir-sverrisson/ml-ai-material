{
 "cells": [
  {
   "cell_type": "code",
   "execution_count": null,
   "id": "8403da03",
   "metadata": {},
   "outputs": [],
   "source": [
    "import spacy\n",
    "from spacy import displacy"
   ]
  },
  {
   "cell_type": "markdown",
   "id": "c1b452b1",
   "metadata": {},
   "source": [
    "Remember to run `(venv) python -m spacy download en_core_web_trf` before next step."
   ]
  },
  {
   "cell_type": "code",
   "execution_count": null,
   "id": "95bcea79",
   "metadata": {},
   "outputs": [],
   "source": [
    "nlp = spacy.load('en_core_web_trf')"
   ]
  },
  {
   "cell_type": "code",
   "execution_count": null,
   "id": "37de31f6",
   "metadata": {},
   "outputs": [],
   "source": [
    "text = \"The animal did not cross the street\"\n",
    "doc = nlp(text)\n",
    "displacy.render(doc, style=\"dep\")"
   ]
  }
 ],
 "metadata": {
  "kernelspec": {
   "display_name": "venv",
   "language": "python",
   "name": "venv"
  },
  "language_info": {
   "codemirror_mode": {
    "name": "ipython",
    "version": 3
   },
   "file_extension": ".py",
   "mimetype": "text/x-python",
   "name": "python",
   "nbconvert_exporter": "python",
   "pygments_lexer": "ipython3",
   "version": "3.11.8"
  }
 },
 "nbformat": 4,
 "nbformat_minor": 5
}
