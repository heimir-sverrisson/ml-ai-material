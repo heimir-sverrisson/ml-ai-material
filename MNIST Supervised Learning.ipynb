{
 "cells": [
  {
   "cell_type": "code",
   "execution_count": null,
   "id": "152ab0be",
   "metadata": {},
   "outputs": [],
   "source": [
    "# Code from https://clay-atlas.com/us/blog/2021/04/22/pytorch-en-tutorial-4-train-a-model-to-classify-mnist/"
   ]
  },
  {
   "cell_type": "code",
   "execution_count": 4,
   "id": "5d044342",
   "metadata": {},
   "outputs": [],
   "source": [
    "import torch\n",
    "import torch.nn as nn\n",
    "import torch.optim as optim\n",
    "import torch.utils.data as dset\n",
    "from torchvision import datasets, transforms"
   ]
  },
  {
   "cell_type": "code",
   "execution_count": 5,
   "id": "0fe4e672",
   "metadata": {},
   "outputs": [
    {
     "name": "stdout",
     "output_type": "stream",
     "text": [
      "GPU State: cpu\n"
     ]
    }
   ],
   "source": [
    "# GPU\n",
    "device = \"cuda:0\" if torch.cuda.is_available() else \"cpu\"\n",
    "print(\"GPU State:\", device)"
   ]
  },
  {
   "cell_type": "code",
   "execution_count": 6,
   "id": "5600301f",
   "metadata": {},
   "outputs": [],
   "source": [
    "# Transform\n",
    "transform = transforms.Compose(\n",
    "    [\n",
    "        transforms.ToTensor(),\n",
    "        transforms.Normalize((0.5,), (0.5,)),\n",
    "    ]\n",
    ")"
   ]
  },
  {
   "cell_type": "code",
   "execution_count": 7,
   "id": "d91baa4a",
   "metadata": {},
   "outputs": [],
   "source": [
    "# Data\n",
    "trainSet = datasets.MNIST(root=\"MNIST\", download=True, train=True, transform=transform)\n",
    "testSet = datasets.MNIST(root=\"MNIST\", download=True, train=False, transform=transform)\n",
    "trainLoader = dset.DataLoader(trainSet, batch_size=64, shuffle=True)\n",
    "testLoader = dset.DataLoader(testSet, batch_size=64, shuffle=False)"
   ]
  },
  {
   "cell_type": "code",
   "execution_count": 8,
   "id": "10a86164",
   "metadata": {},
   "outputs": [],
   "source": [
    "# Model\n",
    "class Net(nn.Module):\n",
    "    def __init__(self):\n",
    "        super(Net, self).__init__()\n",
    "        self.main = nn.Sequential(\n",
    "            nn.Linear(in_features=784, out_features=128),\n",
    "            nn.ReLU(),\n",
    "            nn.Linear(in_features=128, out_features=64),\n",
    "            nn.ReLU(),\n",
    "            nn.Linear(in_features=64, out_features=10),\n",
    "            nn.LogSoftmax(dim=1),\n",
    "        )\n",
    "\n",
    "    def forward(self, input):\n",
    "        return self.main(input)"
   ]
  },
  {
   "cell_type": "code",
   "execution_count": 9,
   "id": "2530cbb6",
   "metadata": {},
   "outputs": [
    {
     "name": "stdout",
     "output_type": "stream",
     "text": [
      "Net(\n",
      "  (main): Sequential(\n",
      "    (0): Linear(in_features=784, out_features=128, bias=True)\n",
      "    (1): ReLU()\n",
      "    (2): Linear(in_features=128, out_features=64, bias=True)\n",
      "    (3): ReLU()\n",
      "    (4): Linear(in_features=64, out_features=10, bias=True)\n",
      "    (5): LogSoftmax(dim=1)\n",
      "  )\n",
      ")\n"
     ]
    }
   ],
   "source": [
    "net = Net().to(device)\n",
    "print(net)"
   ]
  },
  {
   "cell_type": "code",
   "execution_count": 10,
   "id": "59f54d5e",
   "metadata": {},
   "outputs": [],
   "source": [
    "# Parameters\n",
    "epochs = 3\n",
    "lr = 0.002\n",
    "criterion = nn.NLLLoss()\n",
    "optimizer = optim.SGD(net.parameters(), lr=0.002, momentum=0.9)"
   ]
  },
  {
   "cell_type": "code",
   "execution_count": 11,
   "id": "bb954c14",
   "metadata": {},
   "outputs": [
    {
     "name": "stdout",
     "output_type": "stream",
     "text": [
      "[1/3, 100/938] loss: 0.109\n",
      "[1/3, 200/938] loss: 0.186\n",
      "[1/3, 300/938] loss: 0.227\n",
      "[1/3, 400/938] loss: 0.256\n",
      "[1/3, 500/938] loss: 0.281\n",
      "[1/3, 600/938] loss: 0.302\n",
      "[1/3, 700/938] loss: 0.324\n",
      "[1/3, 800/938] loss: 0.343\n",
      "[1/3, 900/938] loss: 0.361\n",
      "[1/3, 938/938] loss: 0.367\n",
      "[2/3, 100/938] loss: 0.017\n",
      "[2/3, 200/938] loss: 0.035\n",
      "[2/3, 300/938] loss: 0.052\n",
      "[2/3, 400/938] loss: 0.068\n",
      "[2/3, 500/938] loss: 0.084\n",
      "[2/3, 600/938] loss: 0.099\n",
      "[2/3, 700/938] loss: 0.115\n",
      "[2/3, 800/938] loss: 0.129\n",
      "[2/3, 900/938] loss: 0.144\n",
      "[2/3, 938/938] loss: 0.150\n",
      "[3/3, 100/938] loss: 0.015\n",
      "[3/3, 200/938] loss: 0.029\n",
      "[3/3, 300/938] loss: 0.043\n",
      "[3/3, 400/938] loss: 0.055\n",
      "[3/3, 500/938] loss: 0.069\n",
      "[3/3, 600/938] loss: 0.082\n",
      "[3/3, 700/938] loss: 0.095\n",
      "[3/3, 800/938] loss: 0.108\n",
      "[3/3, 900/938] loss: 0.121\n",
      "[3/3, 938/938] loss: 0.126\n",
      "Training Finished.\n"
     ]
    }
   ],
   "source": [
    "# Train\n",
    "for epoch in range(epochs):\n",
    "    running_loss = 0.0\n",
    "\n",
    "    for times, data in enumerate(trainLoader):\n",
    "        inputs, labels = data[0].to(device), data[1].to(device)\n",
    "        inputs = inputs.view(inputs.shape[0], -1)\n",
    "\n",
    "        # Zero the parameter gradients\n",
    "        optimizer.zero_grad()\n",
    "\n",
    "        # Foward + backward + optimize\n",
    "        outputs = net(inputs)\n",
    "        loss = criterion(outputs, labels)\n",
    "        loss.backward()\n",
    "        optimizer.step()\n",
    "\n",
    "        # Print statistics\n",
    "        running_loss += loss.item()\n",
    "        if times % 100 == 99 or times + 1 == len(trainLoader):\n",
    "            print(\n",
    "                \"[%d/%d, %d/%d] loss: %.3f\"\n",
    "                % (epoch + 1, epochs, times + 1, len(trainLoader), running_loss / 2000)\n",
    "            )\n",
    "\n",
    "print(\"Training Finished.\")"
   ]
  },
  {
   "cell_type": "code",
   "execution_count": 12,
   "id": "286b7bd0",
   "metadata": {},
   "outputs": [
    {
     "name": "stdout",
     "output_type": "stream",
     "text": [
      "Accuracy of the network on the 10000 test images: 91 %\n",
      "Accuracy of 0: 0.973684\n",
      "Accuracy of 1: 0.978378\n",
      "Accuracy of 2: 0.930233\n",
      "Accuracy of 3: 0.750000\n",
      "Accuracy of 4: 0.937853\n",
      "Accuracy of 5: 0.912698\n",
      "Accuracy of 6: 0.914062\n",
      "Accuracy of 7: 0.914634\n",
      "Accuracy of 8: 0.951049\n",
      "Accuracy of 9: 0.910180\n"
     ]
    }
   ],
   "source": [
    "# Test\n",
    "correct = 0\n",
    "total = 0\n",
    "\n",
    "with torch.no_grad():\n",
    "    for data in testLoader:\n",
    "        inputs, labels = data\n",
    "        inputs, labels = inputs.to(device), labels.to(device)\n",
    "        inputs = inputs.view(inputs.shape[0], -1)\n",
    "\n",
    "        outputs = net(inputs)\n",
    "        _, predicted = torch.max(outputs.data, 1)\n",
    "        total += labels.size(0)\n",
    "        correct += (predicted == labels).sum().item()\n",
    "\n",
    "print(\n",
    "    \"Accuracy of the network on the 10000 test images: %d %%\" % (100 * correct / total)\n",
    ")\n",
    "\n",
    "class_correct = [0 for i in range(10)]\n",
    "class_total = [0 for i in range(10)]\n",
    "\n",
    "with torch.no_grad():\n",
    "    for data in testLoader:\n",
    "        inputs, labels = data[0].to(device), data[1].to(device)\n",
    "        inputs = inputs.view(inputs.shape[0], -1)\n",
    "\n",
    "        outputs = net(inputs)\n",
    "        _, predicted = torch.max(outputs, 1)\n",
    "        c = (predicted == labels).squeeze()\n",
    "        for i in range(10):\n",
    "            label = labels[i]\n",
    "            class_correct[label] += c[i].item()\n",
    "            class_total[label] += 1\n",
    "            # print(class_correct)\n",
    "            # print(class_total)\n",
    "\n",
    "for i in range(10):\n",
    "    print(\"Accuracy of %d: %3f\" % (i, (class_correct[i] / class_total[i])))"
   ]
  }
 ],
 "metadata": {
  "kernelspec": {
   "display_name": "Python 3 (ipykernel)",
   "language": "python",
   "name": "python3"
  },
  "language_info": {
   "codemirror_mode": {
    "name": "ipython",
    "version": 3
   },
   "file_extension": ".py",
   "mimetype": "text/x-python",
   "name": "python",
   "nbconvert_exporter": "python",
   "pygments_lexer": "ipython3",
   "version": "3.11.8"
  }
 },
 "nbformat": 4,
 "nbformat_minor": 5
}
