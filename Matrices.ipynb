{
 "cells": [
  {
   "cell_type": "code",
   "execution_count": 21,
   "id": "a1995a9f",
   "metadata": {},
   "outputs": [],
   "source": [
    "import pandas as pd\n",
    "import numpy as np"
   ]
  },
  {
   "cell_type": "markdown",
   "id": "fe331f47",
   "metadata": {},
   "source": [
    "# Matrix multiplication"
   ]
  },
  {
   "cell_type": "code",
   "execution_count": 22,
   "id": "2ef53959",
   "metadata": {},
   "outputs": [
    {
     "name": "stdout",
     "output_type": "stream",
     "text": [
      "    0   1   2\n",
      "0  22  23  12\n",
      "1   1   4   5\n",
      "2   5   7   5\n",
      "3   1   7   3\n"
     ]
    }
   ],
   "source": [
    "df1 = pd.DataFrame([[22,23,12],[1,4,5],[5,7,5],[1,7,3]])   # 4 x 3 matrix\n",
    "print(df1)"
   ]
  },
  {
   "cell_type": "code",
   "execution_count": 23,
   "id": "32f4fac5",
   "metadata": {},
   "outputs": [
    {
     "name": "stdout",
     "output_type": "stream",
     "text": [
      "   0  1\n",
      "0  2  7\n",
      "1  8  2\n",
      "2  5  4\n"
     ]
    }
   ],
   "source": [
    "df2 = pd.DataFrame([[2,7],[8,2],[5,4]])                 # 3 x 2 matrix\n",
    "print(df2)"
   ]
  },
  {
   "cell_type": "code",
   "execution_count": 24,
   "id": "ffd0a1c7",
   "metadata": {},
   "outputs": [
    {
     "name": "stdout",
     "output_type": "stream",
     "text": [
      "df1 = (4, 3)\n",
      "df2 = (3, 2)\n"
     ]
    }
   ],
   "source": [
    "print(f\"df1 = {df1.shape}\")\n",
    "print(f\"df2 = {df2.shape}\")"
   ]
  },
  {
   "cell_type": "code",
   "execution_count": 25,
   "id": "383fdfd6",
   "metadata": {},
   "outputs": [
    {
     "name": "stdout",
     "output_type": "stream",
     "text": [
      "True\n"
     ]
    }
   ],
   "source": [
    "print(df1.shape[1] == df2.shape[0]) # Must be true for multiplication to be defined"
   ]
  },
  {
   "cell_type": "code",
   "execution_count": 26,
   "id": "ad0cf616",
   "metadata": {},
   "outputs": [
    {
     "name": "stdout",
     "output_type": "stream",
     "text": [
      "     0    1\n",
      "0  288  248\n",
      "1   59   35\n",
      "2   91   69\n",
      "3   73   33\n"
     ]
    }
   ],
   "source": [
    "# Pandas matrix multiplication\n",
    "print(df1.dot(df2))"
   ]
  },
  {
   "cell_type": "code",
   "execution_count": 27,
   "id": "94edc56b",
   "metadata": {},
   "outputs": [
    {
     "name": "stdout",
     "output_type": "stream",
     "text": [
      "[[288 248]\n",
      " [ 59  35]\n",
      " [ 91  69]\n",
      " [ 73  33]]\n"
     ]
    }
   ],
   "source": [
    "# Numpy matrix multiplication\n",
    "print(np.dot(df1,df2))"
   ]
  },
  {
   "cell_type": "markdown",
   "id": "6fea18b8",
   "metadata": {},
   "source": [
    "## Matrix multiplication is not commutative"
   ]
  },
  {
   "cell_type": "code",
   "execution_count": 28,
   "id": "e606c813",
   "metadata": {},
   "outputs": [
    {
     "ename": "ValueError",
     "evalue": "matrices are not aligned",
     "output_type": "error",
     "traceback": [
      "\u001b[0;31m---------------------------------------------------------------------------\u001b[0m",
      "\u001b[0;31mValueError\u001b[0m                                Traceback (most recent call last)",
      "\u001b[0;32m/tmp/ipykernel_19484/2042542834.py\u001b[0m in \u001b[0;36m?\u001b[0;34m()\u001b[0m\n\u001b[0;32m----> 1\u001b[0;31m \u001b[0mprint\u001b[0m\u001b[0;34m(\u001b[0m\u001b[0mdf2\u001b[0m\u001b[0;34m.\u001b[0m\u001b[0mdot\u001b[0m\u001b[0;34m(\u001b[0m\u001b[0mdf1\u001b[0m\u001b[0;34m)\u001b[0m\u001b[0;34m)\u001b[0m\u001b[0;34m\u001b[0m\u001b[0;34m\u001b[0m\u001b[0m\n\u001b[0m",
      "\u001b[0;32m~/.local/lib/python3.11/site-packages/pandas/core/frame.py\u001b[0m in \u001b[0;36m?\u001b[0;34m(self, other)\u001b[0m\n\u001b[1;32m   1588\u001b[0m         \"\"\"\n\u001b[1;32m   1589\u001b[0m         \u001b[0;32mif\u001b[0m \u001b[0misinstance\u001b[0m\u001b[0;34m(\u001b[0m\u001b[0mother\u001b[0m\u001b[0;34m,\u001b[0m \u001b[0;34m(\u001b[0m\u001b[0mSeries\u001b[0m\u001b[0;34m,\u001b[0m \u001b[0mDataFrame\u001b[0m\u001b[0;34m)\u001b[0m\u001b[0;34m)\u001b[0m\u001b[0;34m:\u001b[0m\u001b[0;34m\u001b[0m\u001b[0;34m\u001b[0m\u001b[0m\n\u001b[1;32m   1590\u001b[0m             \u001b[0mcommon\u001b[0m \u001b[0;34m=\u001b[0m \u001b[0mself\u001b[0m\u001b[0;34m.\u001b[0m\u001b[0mcolumns\u001b[0m\u001b[0;34m.\u001b[0m\u001b[0munion\u001b[0m\u001b[0;34m(\u001b[0m\u001b[0mother\u001b[0m\u001b[0;34m.\u001b[0m\u001b[0mindex\u001b[0m\u001b[0;34m)\u001b[0m\u001b[0;34m\u001b[0m\u001b[0;34m\u001b[0m\u001b[0m\n\u001b[1;32m   1591\u001b[0m             \u001b[0;32mif\u001b[0m \u001b[0mlen\u001b[0m\u001b[0;34m(\u001b[0m\u001b[0mcommon\u001b[0m\u001b[0;34m)\u001b[0m \u001b[0;34m>\u001b[0m \u001b[0mlen\u001b[0m\u001b[0;34m(\u001b[0m\u001b[0mself\u001b[0m\u001b[0;34m.\u001b[0m\u001b[0mcolumns\u001b[0m\u001b[0;34m)\u001b[0m \u001b[0;32mor\u001b[0m \u001b[0mlen\u001b[0m\u001b[0;34m(\u001b[0m\u001b[0mcommon\u001b[0m\u001b[0;34m)\u001b[0m \u001b[0;34m>\u001b[0m \u001b[0mlen\u001b[0m\u001b[0;34m(\u001b[0m\u001b[0mother\u001b[0m\u001b[0;34m.\u001b[0m\u001b[0mindex\u001b[0m\u001b[0;34m)\u001b[0m\u001b[0;34m:\u001b[0m\u001b[0;34m\u001b[0m\u001b[0;34m\u001b[0m\u001b[0m\n\u001b[0;32m-> 1592\u001b[0;31m                 \u001b[0;32mraise\u001b[0m \u001b[0mValueError\u001b[0m\u001b[0;34m(\u001b[0m\u001b[0;34m\"matrices are not aligned\"\u001b[0m\u001b[0;34m)\u001b[0m\u001b[0;34m\u001b[0m\u001b[0;34m\u001b[0m\u001b[0m\n\u001b[0m\u001b[1;32m   1593\u001b[0m \u001b[0;34m\u001b[0m\u001b[0m\n\u001b[1;32m   1594\u001b[0m             \u001b[0mleft\u001b[0m \u001b[0;34m=\u001b[0m \u001b[0mself\u001b[0m\u001b[0;34m.\u001b[0m\u001b[0mreindex\u001b[0m\u001b[0;34m(\u001b[0m\u001b[0mcolumns\u001b[0m\u001b[0;34m=\u001b[0m\u001b[0mcommon\u001b[0m\u001b[0;34m,\u001b[0m \u001b[0mcopy\u001b[0m\u001b[0;34m=\u001b[0m\u001b[0;32mFalse\u001b[0m\u001b[0;34m)\u001b[0m\u001b[0;34m\u001b[0m\u001b[0;34m\u001b[0m\u001b[0m\n\u001b[1;32m   1595\u001b[0m             \u001b[0mright\u001b[0m \u001b[0;34m=\u001b[0m \u001b[0mother\u001b[0m\u001b[0;34m.\u001b[0m\u001b[0mreindex\u001b[0m\u001b[0;34m(\u001b[0m\u001b[0mindex\u001b[0m\u001b[0;34m=\u001b[0m\u001b[0mcommon\u001b[0m\u001b[0;34m,\u001b[0m \u001b[0mcopy\u001b[0m\u001b[0;34m=\u001b[0m\u001b[0;32mFalse\u001b[0m\u001b[0;34m)\u001b[0m\u001b[0;34m\u001b[0m\u001b[0;34m\u001b[0m\u001b[0m\n",
      "\u001b[0;31mValueError\u001b[0m: matrices are not aligned"
     ]
    }
   ],
   "source": [
    "print(df2.dot(df1))"
   ]
  },
  {
   "cell_type": "code",
   "execution_count": 29,
   "id": "779cb7a6",
   "metadata": {},
   "outputs": [],
   "source": [
    "df3 = pd.DataFrame([[1,4,3],[8,4,2],[6,2,3]])"
   ]
  },
  {
   "cell_type": "code",
   "execution_count": 30,
   "id": "16f88dc4",
   "metadata": {},
   "outputs": [
    {
     "name": "stdout",
     "output_type": "stream",
     "text": [
      "   0  1  2\n",
      "0  1  4  3\n",
      "1  8  4  2\n",
      "2  6  2  3\n"
     ]
    }
   ],
   "source": [
    "print(df3)"
   ]
  },
  {
   "cell_type": "code",
   "execution_count": 31,
   "id": "97facbc7",
   "metadata": {},
   "outputs": [],
   "source": [
    "df4 = pd.DataFrame([[9,4,5],[8,1,6],[7,2,6]])"
   ]
  },
  {
   "cell_type": "code",
   "execution_count": 32,
   "id": "b12a7764",
   "metadata": {},
   "outputs": [
    {
     "name": "stdout",
     "output_type": "stream",
     "text": [
      "     0   1   2\n",
      "0   62  14  47\n",
      "1  118  40  76\n",
      "2   91  32  60\n"
     ]
    }
   ],
   "source": [
    "print(df3.dot(df4))"
   ]
  },
  {
   "cell_type": "code",
   "execution_count": 33,
   "id": "afe8a47c",
   "metadata": {},
   "outputs": [
    {
     "name": "stdout",
     "output_type": "stream",
     "text": [
      "    0   1   2\n",
      "0  71  62  50\n",
      "1  52  48  44\n",
      "2  59  48  43\n"
     ]
    }
   ],
   "source": [
    "print(df4.dot(df3))"
   ]
  },
  {
   "cell_type": "markdown",
   "id": "da54ef07",
   "metadata": {},
   "source": [
    "## Multiply a matrix and vector"
   ]
  },
  {
   "cell_type": "code",
   "execution_count": null,
   "id": "fc16ef61",
   "metadata": {},
   "outputs": [],
   "source": [
    "row_vec = pd.DataFrame([[1,4,5,6]])    # Row vector"
   ]
  },
  {
   "cell_type": "code",
   "execution_count": null,
   "id": "47b767dc",
   "metadata": {},
   "outputs": [],
   "source": [
    "print(row_vec.dot(df1)) # Produces 1 x 3 row vector"
   ]
  },
  {
   "cell_type": "code",
   "execution_count": null,
   "id": "d59d9e77",
   "metadata": {},
   "outputs": [],
   "source": [
    "col_vec = pd.DataFrame([[1,3,6]]).transpose()"
   ]
  },
  {
   "cell_type": "code",
   "execution_count": null,
   "id": "c24afe29",
   "metadata": {},
   "outputs": [],
   "source": [
    "print(col_vec)"
   ]
  },
  {
   "cell_type": "code",
   "execution_count": null,
   "id": "dc957cbc",
   "metadata": {},
   "outputs": [],
   "source": [
    "print(df1.dot(col_vec)) # Produces 4 x 1 column vector"
   ]
  },
  {
   "cell_type": "code",
   "execution_count": null,
   "id": "47ebf228",
   "metadata": {},
   "outputs": [],
   "source": []
  }
 ],
 "metadata": {
  "kernelspec": {
   "display_name": "Python 3 (ipykernel)",
   "language": "python",
   "name": "python3"
  },
  "language_info": {
   "codemirror_mode": {
    "name": "ipython",
    "version": 3
   },
   "file_extension": ".py",
   "mimetype": "text/x-python",
   "name": "python",
   "nbconvert_exporter": "python",
   "pygments_lexer": "ipython3",
   "version": "3.11.8"
  }
 },
 "nbformat": 4,
 "nbformat_minor": 5
}
